{
 "cells": [
  {
   "cell_type": "markdown",
   "id": "58a92740",
   "metadata": {},
   "source": [
    "**Importando as libs**"
   ]
  },
  {
   "cell_type": "code",
   "execution_count": 2,
   "id": "318a1527",
   "metadata": {},
   "outputs": [],
   "source": [
    "# Libs para web scraping\n",
    "from selenium import webdriver\n",
    "from webdriver_manager.chrome import ChromeDriverManager\n",
    "from selenium.webdriver.chrome.service import Service\n",
    "from selenium.webdriver.common.by import By\n",
    "from selenium.webdriver.common.keys import Keys\n",
    "from bs4 import BeautifulSoup\n",
    "import time\n",
    "\n",
    "# Lib para manipulação de dados\n",
    "import pandas as pd"
   ]
  },
  {
   "cell_type": "markdown",
   "id": "dee203f5",
   "metadata": {},
   "source": [
    "**Instalando o chrome driver**"
   ]
  },
  {
   "cell_type": "code",
   "execution_count": 3,
   "id": "c74057f4",
   "metadata": {},
   "outputs": [
    {
     "name": "stderr",
     "output_type": "stream",
     "text": [
      "[WDM] - Downloading: 100%|████████████████████████████████████████████████████████| 6.79M/6.79M [00:01<00:00, 6.15MB/s]\n"
     ]
    }
   ],
   "source": [
    "service = Service(ChromeDriverManager().install())"
   ]
  },
  {
   "cell_type": "markdown",
   "id": "43616456",
   "metadata": {},
   "source": [
    "**Conectando ao site**"
   ]
  },
  {
   "cell_type": "code",
   "execution_count": 12,
   "id": "5d86397a",
   "metadata": {},
   "outputs": [],
   "source": [
    "# Abre o google chrome\n",
    "driver = webdriver.Chrome(service=service)\n",
    "\n",
    "# Entra no site do linkedin\n",
    "driver.get('https://www.linkedin.com/jobs/search?trk=guest_homepage-basic_guest_nav_menu_jobs&position=1&pageNum=0')\n",
    "time.sleep(5)"
   ]
  },
  {
   "cell_type": "markdown",
   "id": "5a1875d0",
   "metadata": {},
   "source": [
    "### Preenchendo as informações de pesquisa"
   ]
  },
  {
   "cell_type": "code",
   "execution_count": 13,
   "id": "70aa5fe8",
   "metadata": {},
   "outputs": [],
   "source": [
    "# Cargo de interesse\n",
    "cargo = 'Analista de dados'\n",
    "\n",
    "# XPATH do local onde digitamos o cargo de interesse\n",
    "xpath_cargo = '/html/body/div[1]/header/nav/section/section[2]/form/section[1]/input'\n",
    "\n",
    "# Digita o cargo no local indicado\n",
    "box_cargo = driver.find_element(By.XPATH, xpath_cargo)\n",
    "box_cargo.send_keys(cargo)"
   ]
  },
  {
   "cell_type": "code",
   "execution_count": 14,
   "id": "589761f5",
   "metadata": {},
   "outputs": [],
   "source": [
    "# País de interesse\n",
    "pais = 'Brasil'\n",
    "\n",
    "# XPATH do local onde apagamos o que já vem escrito por padrão\n",
    "xpath_clear = '/html/body/div[1]/header/nav/section/section[2]/form/section[2]/button'\n",
    "driver.find_element(By.XPATH, xpath_clear).click()\n",
    "\n",
    "# XPATH do local onde digitamos o país de interesse\n",
    "xpath_pais = '/html/body/div[1]/header/nav/section/section[2]/form/section[2]/input'\n",
    "\n",
    "# Digita o país no local indicado\n",
    "box_pais = driver.find_element(By.XPATH, xpath_pais)\n",
    "box_pais.send_keys(pais)\n",
    "time.sleep(2)\n",
    "\n",
    "# XPATH que seleciona o país indicado\n",
    "xpath_selecao_pais = '//*[@id=\"location-1\"]'\n",
    "driver.find_element(By.XPATH, xpath_selecao_pais).click()\n",
    "time.sleep(5)"
   ]
  },
  {
   "cell_type": "markdown",
   "id": "96b71d96",
   "metadata": {},
   "source": [
    "**Carregando a tela**"
   ]
  },
  {
   "cell_type": "code",
   "execution_count": 15,
   "id": "a7457b05",
   "metadata": {},
   "outputs": [],
   "source": [
    "# Coleta o tamanho da página\n",
    "height_inicil = driver.execute_script('return document.body.scrollHeight')\n",
    "\n",
    "# Looping infinito para carregar toda a página\n",
    "while True:\n",
    "    # Leva para o final da página\n",
    "    driver.execute_script('window.scrollTo(0, document.body.scrollHeight)')\n",
    "    time.sleep(3)\n",
    "    \n",
    "    # Coleta o tamnho da página\n",
    "    height_final = driver.execute_script('return document.body.scrollHeight')\n",
    "    \n",
    "    try:\n",
    "        # Clica no botão de carrega mais vagas\n",
    "        driver.find_element(By.XPATH, '//*[@id=\"main-content\"]/section[2]/button').click()\n",
    "        time.sleep(3)\n",
    "        # Leva para o final da página\n",
    "        driver.execute_script('window.scrollTo(0, document.body.scrollHeight)')\n",
    "        # Coleta o tamnho da página\n",
    "        height_final = driver.execute_script('return document.body.scrollHeight')\n",
    "    except:\n",
    "        pass\n",
    "    \n",
    "    # Compara se houve mudança no tamanho da página\n",
    "    if height_inicil < height_final:\n",
    "        height_inicil = height_final\n",
    "    else:\n",
    "        break"
   ]
  },
  {
   "cell_type": "markdown",
   "id": "f4264df8",
   "metadata": {},
   "source": [
    "**Coletando os dados**"
   ]
  },
  {
   "cell_type": "code",
   "execution_count": 16,
   "id": "ce0cc158",
   "metadata": {},
   "outputs": [],
   "source": [
    "# Coletando o html da página\n",
    "soup = BeautifulSoup(driver.page_source, 'lxml')\n",
    "all_vagas = soup.find('ul', {'class': 'jobs-search__results-list'})\n",
    "box_vagas = all_vagas.find_all('li')\n",
    "\n",
    "# Cria um dataframe\n",
    "df = pd.DataFrame(columns = [\n",
    "    'Link Vaga',\n",
    "    'Link Empresa',\n",
    "    'Cargo',\n",
    "    'Nome Empresa',\n",
    "    'Local',\n",
    "    'Tempo de Abertura',\n",
    "    'Status'\n",
    "])\n",
    "\n",
    "# Looping para coletar cada informação da vaga\n",
    "for vaga in box_vagas:\n",
    "    try:\n",
    "        link = vaga.find('a', {'class': 'base-card__full-link absolute top-0 right-0 bottom-0 left-0 p-0 z-[2]'}).get('href')\n",
    "    except:\n",
    "        link = vaga.find('a', {'class': 'base-card relative w-full hover:no-underline focus:no-underline base-card--link base-search-card base-search-card--link job-search-card'}).get('href')\n",
    "    \n",
    "    try:\n",
    "        cargo = vaga.find('span', {'class': 'sr-only'}).text.strip()\n",
    "    except:\n",
    "        cargo = vaga.find('h3', {'class': 'base-search-card__title'}).text.strip()\n",
    "    \n",
    "    try:\n",
    "        linkedin_empresa = vaga.find('a', {'class': 'hidden-nested-link'}).get('href')\n",
    "    except:\n",
    "        linkedin_empresa = vaga.find('a', {'class': 'base-card relative w-full hover:no-underline focus:no-underline base-card--link base-search-card base-search-card--link job-search-card'}).get('href')\n",
    "    \n",
    "    try:\n",
    "        nome_empresa = vaga.find('a', {'class': 'hidden-nested-link'}).text.strip()\n",
    "    except:\n",
    "        nome_empresa = vaga.find('h4', {'class': 'base-search-card__subtitle'}).text.strip()\n",
    "    \n",
    "    local = vaga.find('span', {'class': 'job-search-card__location'}).text.strip()\n",
    "    \n",
    "    try:\n",
    "        tempo = vaga.find('time', {'class': 'job-search-card__listdate'}).text.strip()\n",
    "    except:\n",
    "        tempo = vaga.find('time', {'class': 'job-search-card__listdate--new'}).text.strip()\n",
    "    \n",
    "    try:\n",
    "        status = vaga.find('span', {'class': 'result-benefits__text'}).text.strip()\n",
    "    except:\n",
    "        status = ''\n",
    "        \n",
    "    # Adiciona as informações no dataframe\n",
    "    df.loc[len(df)] = [\n",
    "        link,\n",
    "        linkedin_empresa,\n",
    "        cargo,\n",
    "        nome_empresa,\n",
    "        local,\n",
    "        tempo,\n",
    "        status\n",
    "    ]"
   ]
  },
  {
   "cell_type": "code",
   "execution_count": 18,
   "id": "ac3ba8f7",
   "metadata": {},
   "outputs": [
    {
     "data": {
      "text/html": [
       "<div>\n",
       "<style scoped>\n",
       "    .dataframe tbody tr th:only-of-type {\n",
       "        vertical-align: middle;\n",
       "    }\n",
       "\n",
       "    .dataframe tbody tr th {\n",
       "        vertical-align: top;\n",
       "    }\n",
       "\n",
       "    .dataframe thead th {\n",
       "        text-align: right;\n",
       "    }\n",
       "</style>\n",
       "<table border=\"1\" class=\"dataframe\">\n",
       "  <thead>\n",
       "    <tr style=\"text-align: right;\">\n",
       "      <th></th>\n",
       "      <th>Link Vaga</th>\n",
       "      <th>Link Empresa</th>\n",
       "      <th>Cargo</th>\n",
       "      <th>Nome Empresa</th>\n",
       "      <th>Local</th>\n",
       "      <th>Tempo de Abertura</th>\n",
       "      <th>Status</th>\n",
       "    </tr>\n",
       "  </thead>\n",
       "  <tbody>\n",
       "    <tr>\n",
       "      <th>0</th>\n",
       "      <td>https://br.linkedin.com/jobs/view/analista-de-...</td>\n",
       "      <td>https://br.linkedin.com/company/kangu-br?trk=p...</td>\n",
       "      <td>Analista de Dados JR</td>\n",
       "      <td>Kangu</td>\n",
       "      <td>Osasco, SP</td>\n",
       "      <td>Há 1 semana</td>\n",
       "      <td>Contratando agora</td>\n",
       "    </tr>\n",
       "    <tr>\n",
       "      <th>1</th>\n",
       "      <td>https://br.linkedin.com/jobs/view/analista-de-...</td>\n",
       "      <td>https://br.linkedin.com/company/fraport-brasil...</td>\n",
       "      <td>Analista de Dados JR</td>\n",
       "      <td>Fraport Brasil - Porto Alegre</td>\n",
       "      <td>Porto Alegre, RS</td>\n",
       "      <td>Há 7 horas</td>\n",
       "      <td></td>\n",
       "    </tr>\n",
       "    <tr>\n",
       "      <th>2</th>\n",
       "      <td>https://br.linkedin.com/jobs/view/data-analyst...</td>\n",
       "      <td>https://br.linkedin.com/company/mundiale?trk=p...</td>\n",
       "      <td>DATA ANALYST</td>\n",
       "      <td>Mundiale</td>\n",
       "      <td>Brasil</td>\n",
       "      <td>Há 2 semanas</td>\n",
       "      <td>Contratando agora</td>\n",
       "    </tr>\n",
       "    <tr>\n",
       "      <th>3</th>\n",
       "      <td>https://br.linkedin.com/jobs/view/analista-de-...</td>\n",
       "      <td>https://br.linkedin.com/company/canalag?trk=pu...</td>\n",
       "      <td>Analista de dados</td>\n",
       "      <td>Canal/</td>\n",
       "      <td>Brasil</td>\n",
       "      <td>Há 7 horas</td>\n",
       "      <td></td>\n",
       "    </tr>\n",
       "    <tr>\n",
       "      <th>4</th>\n",
       "      <td>https://br.linkedin.com/jobs/view/analista-de-...</td>\n",
       "      <td>https://br.linkedin.com/company/hdi-seguros?tr...</td>\n",
       "      <td>Analista de Dados Junior</td>\n",
       "      <td>HDI Seguros</td>\n",
       "      <td>São Paulo e Região</td>\n",
       "      <td>Há 2 semanas</td>\n",
       "      <td>Contratando agora</td>\n",
       "    </tr>\n",
       "  </tbody>\n",
       "</table>\n",
       "</div>"
      ],
      "text/plain": [
       "                                           Link Vaga  \\\n",
       "0  https://br.linkedin.com/jobs/view/analista-de-...   \n",
       "1  https://br.linkedin.com/jobs/view/analista-de-...   \n",
       "2  https://br.linkedin.com/jobs/view/data-analyst...   \n",
       "3  https://br.linkedin.com/jobs/view/analista-de-...   \n",
       "4  https://br.linkedin.com/jobs/view/analista-de-...   \n",
       "\n",
       "                                        Link Empresa  \\\n",
       "0  https://br.linkedin.com/company/kangu-br?trk=p...   \n",
       "1  https://br.linkedin.com/company/fraport-brasil...   \n",
       "2  https://br.linkedin.com/company/mundiale?trk=p...   \n",
       "3  https://br.linkedin.com/company/canalag?trk=pu...   \n",
       "4  https://br.linkedin.com/company/hdi-seguros?tr...   \n",
       "\n",
       "                      Cargo                   Nome Empresa  \\\n",
       "0      Analista de Dados JR                          Kangu   \n",
       "1      Analista de Dados JR  Fraport Brasil - Porto Alegre   \n",
       "2              DATA ANALYST                       Mundiale   \n",
       "3         Analista de dados                         Canal/   \n",
       "4  Analista de Dados Junior                    HDI Seguros   \n",
       "\n",
       "                Local Tempo de Abertura             Status  \n",
       "0          Osasco, SP       Há 1 semana  Contratando agora  \n",
       "1    Porto Alegre, RS        Há 7 horas                     \n",
       "2              Brasil      Há 2 semanas  Contratando agora  \n",
       "3              Brasil        Há 7 horas                     \n",
       "4  São Paulo e Região      Há 2 semanas  Contratando agora  "
      ]
     },
     "execution_count": 18,
     "metadata": {},
     "output_type": "execute_result"
    }
   ],
   "source": [
    "df.head()"
   ]
  },
  {
   "cell_type": "markdown",
   "id": "26db44ef",
   "metadata": {},
   "source": [
    "**Salva o dataframe na pasta que está o arquivo python no formato xlsx**"
   ]
  },
  {
   "cell_type": "code",
   "execution_count": null,
   "id": "ebda0f5b",
   "metadata": {},
   "outputs": [],
   "source": [
    "df.to_excel('scrapng_linkedin.xlsx', index = False)"
   ]
  }
 ],
 "metadata": {
  "kernelspec": {
   "display_name": "Python 3 (ipykernel)",
   "language": "python",
   "name": "python3"
  },
  "language_info": {
   "codemirror_mode": {
    "name": "ipython",
    "version": 3
   },
   "file_extension": ".py",
   "mimetype": "text/x-python",
   "name": "python",
   "nbconvert_exporter": "python",
   "pygments_lexer": "ipython3",
   "version": "3.9.12"
  }
 },
 "nbformat": 4,
 "nbformat_minor": 5
}
